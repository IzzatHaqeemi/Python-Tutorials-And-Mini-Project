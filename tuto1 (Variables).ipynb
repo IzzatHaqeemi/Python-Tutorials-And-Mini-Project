{
 "cells": [
  {
   "cell_type": "markdown",
   "id": "ce5f6576",
   "metadata": {},
   "source": [
    "# Variables In Phyton"
   ]
  },
  {
   "cell_type": "code",
   "execution_count": 1,
   "id": "b07681a5",
   "metadata": {},
   "outputs": [
    {
     "name": "stdout",
     "output_type": "stream",
     "text": [
      "22\n"
     ]
    }
   ],
   "source": [
    "x = 22\n",
    "\n",
    "print (x)"
   ]
  },
  {
   "cell_type": "code",
   "execution_count": 2,
   "id": "c62ccc63",
   "metadata": {},
   "outputs": [
    {
     "data": {
      "text/plain": [
       "int"
      ]
     },
     "execution_count": 2,
     "metadata": {},
     "output_type": "execute_result"
    }
   ],
   "source": [
    "type (x)"
   ]
  },
  {
   "cell_type": "code",
   "execution_count": 3,
   "id": "9d510097",
   "metadata": {},
   "outputs": [
    {
     "name": "stdout",
     "output_type": "stream",
     "text": [
      "Kiwi\n"
     ]
    }
   ],
   "source": [
    "y = 'Kiwi'\n",
    "print (y)"
   ]
  },
  {
   "cell_type": "code",
   "execution_count": 4,
   "id": "9dc55a96",
   "metadata": {},
   "outputs": [
    {
     "data": {
      "text/plain": [
       "str"
      ]
     },
     "execution_count": 4,
     "metadata": {},
     "output_type": "execute_result"
    }
   ],
   "source": [
    "type  (y)"
   ]
  },
  {
   "cell_type": "code",
   "execution_count": 10,
   "id": "111a532b",
   "metadata": {},
   "outputs": [
    {
     "name": "stdout",
     "output_type": "stream",
     "text": [
      "Kiwi\n"
     ]
    }
   ],
   "source": [
    "y = 'Choco'\n",
    "Y = 'Kiwi'\n",
    "print (Y)"
   ]
  },
  {
   "cell_type": "code",
   "execution_count": 12,
   "id": "ceb9af54",
   "metadata": {},
   "outputs": [
    {
     "name": "stdout",
     "output_type": "stream",
     "text": [
      "Choco Mint Orange\n"
     ]
    }
   ],
   "source": [
    "x,y,z = 'Choco' , 'Mint', 'Orange'\n",
    "print (x,y,z)"
   ]
  },
  {
   "cell_type": "code",
   "execution_count": 13,
   "id": "f0876ede",
   "metadata": {},
   "outputs": [
    {
     "name": "stdout",
     "output_type": "stream",
     "text": [
      "Root Beer Float\n"
     ]
    }
   ],
   "source": [
    "x = y = z = 'Root Beer Float'\n",
    "print (z)"
   ]
  },
  {
   "cell_type": "code",
   "execution_count": 16,
   "id": "0984379d",
   "metadata": {},
   "outputs": [
    {
     "name": "stdout",
     "output_type": "stream",
     "text": [
      "Choco\n",
      "Mint\n",
      "Orange\n"
     ]
    }
   ],
   "source": [
    "ice_cream = ['Choco' , 'Mint', 'Orange']\n",
    "\n",
    "x,y,z = ice_cream\n",
    "print (x)\n",
    "print (y)\n",
    "print (z)"
   ]
  },
  {
   "cell_type": "code",
   "execution_count": 20,
   "id": "ffc64dad",
   "metadata": {},
   "outputs": [
    {
     "name": "stdout",
     "output_type": "stream",
     "text": [
      "KiwiButtowski\n"
     ]
    }
   ],
   "source": [
    "x = 'Kiwi' + 'Buttowski'\n",
    "print (x)"
   ]
  },
  {
   "cell_type": "code",
   "execution_count": 23,
   "id": "ed775a37",
   "metadata": {},
   "outputs": [
    {
     "name": "stdout",
     "output_type": "stream",
     "text": [
      "5\n"
     ]
    }
   ],
   "source": [
    "y = 2 + 3\n",
    "print (y)"
   ]
  },
  {
   "cell_type": "code",
   "execution_count": 25,
   "id": "5f80c77d",
   "metadata": {},
   "outputs": [
    {
     "name": "stdout",
     "output_type": "stream",
     "text": [
      "kiwibuttowskisemart\n"
     ]
    }
   ],
   "source": [
    "x = 'kiwi'\n",
    "y ='buttowski'\n",
    "z = 'semart'\n",
    "\n",
    "print (x + y + z)"
   ]
  },
  {
   "cell_type": "code",
   "execution_count": 26,
   "id": "3d82b755",
   "metadata": {},
   "outputs": [
    {
     "name": "stdout",
     "output_type": "stream",
     "text": [
      "kiwi 2 semart\n"
     ]
    }
   ],
   "source": [
    "x = 'kiwi'\n",
    "y = 2\n",
    "z = 'semart'\n",
    "\n",
    "print (x , y , z)"
   ]
  },
  {
   "cell_type": "code",
   "execution_count": null,
   "id": "e451f176",
   "metadata": {},
   "outputs": [],
   "source": []
  }
 ],
 "metadata": {
  "kernelspec": {
   "display_name": "Python 3 (ipykernel)",
   "language": "python",
   "name": "python3"
  },
  "language_info": {
   "codemirror_mode": {
    "name": "ipython",
    "version": 3
   },
   "file_extension": ".py",
   "mimetype": "text/x-python",
   "name": "python",
   "nbconvert_exporter": "python",
   "pygments_lexer": "ipython3",
   "version": "3.11.4"
  }
 },
 "nbformat": 4,
 "nbformat_minor": 5
}
