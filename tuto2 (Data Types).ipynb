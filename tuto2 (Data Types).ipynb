{
 "cells": [
  {
   "cell_type": "markdown",
   "id": "fbffc472",
   "metadata": {},
   "source": [
    "# Data Types"
   ]
  },
  {
   "cell_type": "code",
   "execution_count": 1,
   "id": "3c70223b",
   "metadata": {},
   "outputs": [
    {
     "data": {
      "text/plain": [
       "int"
      ]
     },
     "execution_count": 1,
     "metadata": {},
     "output_type": "execute_result"
    }
   ],
   "source": [
    "type (-12 + 199)"
   ]
  },
  {
   "cell_type": "code",
   "execution_count": 2,
   "id": "c4a930d5",
   "metadata": {},
   "outputs": [
    {
     "data": {
      "text/plain": [
       "float"
      ]
     },
     "execution_count": 2,
     "metadata": {},
     "output_type": "execute_result"
    }
   ],
   "source": [
    "type (12 + 12.2)"
   ]
  },
  {
   "cell_type": "code",
   "execution_count": 3,
   "id": "d78a59ea",
   "metadata": {},
   "outputs": [
    {
     "data": {
      "text/plain": [
       "complex"
      ]
     },
     "execution_count": 3,
     "metadata": {},
     "output_type": "execute_result"
    }
   ],
   "source": [
    "type (1 + 1j)"
   ]
  },
  {
   "cell_type": "markdown",
   "id": "5b712fad",
   "metadata": {},
   "source": [
    "# Boolean"
   ]
  },
  {
   "cell_type": "code",
   "execution_count": 4,
   "id": "c577b38b",
   "metadata": {},
   "outputs": [
    {
     "data": {
      "text/plain": [
       "bool"
      ]
     },
     "execution_count": 4,
     "metadata": {},
     "output_type": "execute_result"
    }
   ],
   "source": [
    "type (1>5)"
   ]
  },
  {
   "cell_type": "code",
   "execution_count": 5,
   "id": "9a2739dd",
   "metadata": {},
   "outputs": [
    {
     "data": {
      "text/plain": [
       "False"
      ]
     },
     "execution_count": 5,
     "metadata": {},
     "output_type": "execute_result"
    }
   ],
   "source": [
    "1 > 5"
   ]
  },
  {
   "cell_type": "code",
   "execution_count": 6,
   "id": "7698b49d",
   "metadata": {},
   "outputs": [
    {
     "data": {
      "text/plain": [
       "True"
      ]
     },
     "execution_count": 6,
     "metadata": {},
     "output_type": "execute_result"
    }
   ],
   "source": [
    "1 == 1"
   ]
  },
  {
   "cell_type": "markdown",
   "id": "9bd713d6",
   "metadata": {},
   "source": [
    "# String"
   ]
  },
  {
   "cell_type": "code",
   "execution_count": 7,
   "id": "a3f7f159",
   "metadata": {},
   "outputs": [
    {
     "data": {
      "text/plain": [
       "'Single Quote'"
      ]
     },
     "execution_count": 7,
     "metadata": {},
     "output_type": "execute_result"
    }
   ],
   "source": [
    "'Single Quote'"
   ]
  },
  {
   "cell_type": "code",
   "execution_count": 8,
   "id": "fa826dea",
   "metadata": {},
   "outputs": [
    {
     "data": {
      "text/plain": [
       "'Double Quote'"
      ]
     },
     "execution_count": 8,
     "metadata": {},
     "output_type": "execute_result"
    }
   ],
   "source": [
    "\"Double Quote\""
   ]
  },
  {
   "cell_type": "code",
   "execution_count": 11,
   "id": "c778fc32",
   "metadata": {},
   "outputs": [],
   "source": [
    "multiline = \"\"\"\n",
    "hwlo\n",
    "hulu\n",
    "hihi\n",
    "hoho\n",
    "\"\"\""
   ]
  },
  {
   "cell_type": "code",
   "execution_count": 12,
   "id": "c8c7aa94",
   "metadata": {},
   "outputs": [
    {
     "name": "stdout",
     "output_type": "stream",
     "text": [
      "\n",
      "hwlo\n",
      "hulu\n",
      "hihi\n",
      "hoho\n",
      "\n"
     ]
    }
   ],
   "source": [
    "print(multiline)"
   ]
  },
  {
   "cell_type": "code",
   "execution_count": 13,
   "id": "a156bddb",
   "metadata": {},
   "outputs": [
    {
     "data": {
      "text/plain": [
       "\"I've always wanted to play apex legends\""
      ]
     },
     "execution_count": 13,
     "metadata": {},
     "output_type": "execute_result"
    }
   ],
   "source": [
    "\"I've always wanted to play apex legends\""
   ]
  },
  {
   "cell_type": "code",
   "execution_count": 15,
   "id": "ef74d09e",
   "metadata": {},
   "outputs": [],
   "source": [
    "multiline = \"\"\"\n",
    "\"I've always wanted to play apex legends\"\n",
    "\"\"\""
   ]
  },
  {
   "cell_type": "code",
   "execution_count": 16,
   "id": "b6516f16",
   "metadata": {},
   "outputs": [
    {
     "name": "stdout",
     "output_type": "stream",
     "text": [
      "\n",
      "\"I've always wanted to play apex legends\"\n",
      "\n"
     ]
    }
   ],
   "source": [
    "print (multiline)"
   ]
  },
  {
   "cell_type": "code",
   "execution_count": 18,
   "id": "0a7a2eab",
   "metadata": {},
   "outputs": [
    {
     "name": "stdout",
     "output_type": "stream",
     "text": [
      "llo\n"
     ]
    }
   ],
   "source": [
    "a = 'Hello World'\n",
    "print (a[2:5]) "
   ]
  },
  {
   "cell_type": "code",
   "execution_count": 19,
   "id": "0e68ed42",
   "metadata": {},
   "outputs": [
    {
     "data": {
      "text/plain": [
       "'Hello WorldHello WorldHello World'"
      ]
     },
     "execution_count": 19,
     "metadata": {},
     "output_type": "execute_result"
    }
   ],
   "source": [
    "a * 3"
   ]
  },
  {
   "cell_type": "markdown",
   "id": "7c1bb96a",
   "metadata": {},
   "source": [
    "# List"
   ]
  },
  {
   "cell_type": "code",
   "execution_count": 20,
   "id": "bd0d2698",
   "metadata": {},
   "outputs": [
    {
     "data": {
      "text/plain": [
       "[1, 2, 3]"
      ]
     },
     "execution_count": 20,
     "metadata": {},
     "output_type": "execute_result"
    }
   ],
   "source": [
    "[1,2,3]"
   ]
  },
  {
   "cell_type": "code",
   "execution_count": 21,
   "id": "ddb77ea2",
   "metadata": {},
   "outputs": [
    {
     "data": {
      "text/plain": [
       "['Coodie', 'ASAP', 'no rome']"
      ]
     },
     "execution_count": 21,
     "metadata": {},
     "output_type": "execute_result"
    }
   ],
   "source": [
    "['Coodie','ASAP','no rome']"
   ]
  },
  {
   "cell_type": "code",
   "execution_count": 22,
   "id": "fa6c6352",
   "metadata": {},
   "outputs": [
    {
     "data": {
      "text/plain": [
       "['Coodie', 0, 'no rome']"
      ]
     },
     "execution_count": 22,
     "metadata": {},
     "output_type": "execute_result"
    }
   ],
   "source": [
    "['Coodie',000,'no rome']"
   ]
  },
  {
   "cell_type": "code",
   "execution_count": 24,
   "id": "e2e3fb6f",
   "metadata": {},
   "outputs": [
    {
     "data": {
      "text/plain": [
       "['Coodie', 'ASAP', 'no rome', 'OMG']"
      ]
     },
     "execution_count": 24,
     "metadata": {},
     "output_type": "execute_result"
    }
   ],
   "source": [
    "ART = ['Coodie','ASAP','no rome']\n",
    "ART.append('OMG')\n",
    "ART"
   ]
  },
  {
   "cell_type": "code",
   "execution_count": 26,
   "id": "2c7c01bd",
   "metadata": {},
   "outputs": [
    {
     "data": {
      "text/plain": [
       "['Coodie', 'ASAP', 'no rome']"
      ]
     },
     "execution_count": 26,
     "metadata": {},
     "output_type": "execute_result"
    }
   ],
   "source": [
    "ART = ['Coodie','ASAP','no rome']\n",
    "ART"
   ]
  },
  {
   "cell_type": "code",
   "execution_count": 27,
   "id": "6ba2fe2b",
   "metadata": {},
   "outputs": [
    {
     "data": {
      "text/plain": [
       "['Coodie', 'Brother', 'no rome']"
      ]
     },
     "execution_count": 27,
     "metadata": {},
     "output_type": "execute_result"
    }
   ],
   "source": [
    "ART[1] = 'Brother'\n",
    "ART"
   ]
  },
  {
   "cell_type": "code",
   "execution_count": 32,
   "id": "01f53bed",
   "metadata": {},
   "outputs": [
    {
     "data": {
      "text/plain": [
       "['OH', 'BITCRUSH', 'SEVENTEEN']"
      ]
     },
     "execution_count": 32,
     "metadata": {},
     "output_type": "execute_result"
    }
   ],
   "source": [
    "nested_list = ['Coodie','ASAP',['OH','BITCRUSH','SEVENTEEN'],'no rome']\n",
    "nested_list[2]"
   ]
  },
  {
   "cell_type": "code",
   "execution_count": 33,
   "id": "c009a214",
   "metadata": {},
   "outputs": [
    {
     "data": {
      "text/plain": [
       "'SEVENTEEN'"
      ]
     },
     "execution_count": 33,
     "metadata": {},
     "output_type": "execute_result"
    }
   ],
   "source": [
    "nested_list = ['Coodie','ASAP',['OH','BITCRUSH','SEVENTEEN'],'no rome']\n",
    "nested_list[2][2]"
   ]
  },
  {
   "cell_type": "markdown",
   "id": "d1dd04db",
   "metadata": {},
   "source": [
    "# Tuple\n"
   ]
  },
  {
   "cell_type": "code",
   "execution_count": 35,
   "id": "c8fa2a67",
   "metadata": {},
   "outputs": [
    {
     "data": {
      "text/plain": [
       "tuple"
      ]
     },
     "execution_count": 35,
     "metadata": {},
     "output_type": "execute_result"
    }
   ],
   "source": [
    "tuple_example = (1,2,3,4,5)\n",
    "type (tuple_example)"
   ]
  },
  {
   "cell_type": "code",
   "execution_count": 36,
   "id": "6f34bc87",
   "metadata": {},
   "outputs": [
    {
     "data": {
      "text/plain": [
       "2"
      ]
     },
     "execution_count": 36,
     "metadata": {},
     "output_type": "execute_result"
    }
   ],
   "source": [
    "tuple_example[1]"
   ]
  },
  {
   "cell_type": "markdown",
   "id": "b1374633",
   "metadata": {},
   "source": [
    "# Set\n"
   ]
  },
  {
   "cell_type": "code",
   "execution_count": 37,
   "id": "7158652d",
   "metadata": {},
   "outputs": [
    {
     "data": {
      "text/plain": [
       "set"
      ]
     },
     "execution_count": 37,
     "metadata": {},
     "output_type": "execute_result"
    }
   ],
   "source": [
    "set_example = {1,2,3}\n",
    "type (set_example)"
   ]
  },
  {
   "cell_type": "code",
   "execution_count": 38,
   "id": "3f6f5c47",
   "metadata": {},
   "outputs": [
    {
     "name": "stdout",
     "output_type": "stream",
     "text": [
      "{1, 2, 3}\n"
     ]
    }
   ],
   "source": [
    "print (set_example)"
   ]
  },
  {
   "cell_type": "code",
   "execution_count": 41,
   "id": "bfc74a69",
   "metadata": {},
   "outputs": [
    {
     "name": "stdout",
     "output_type": "stream",
     "text": [
      "{1, 2, 3, 4, 66, 55}\n"
     ]
    }
   ],
   "source": [
    "set_example_2 = {1,1,2,3,4,4,55,66,66}\n",
    "print (set_example_2)"
   ]
  },
  {
   "cell_type": "code",
   "execution_count": 44,
   "id": "34a9b8c6",
   "metadata": {},
   "outputs": [
    {
     "name": "stdout",
     "output_type": "stream",
     "text": [
      "{0, 1, 2, 3, 4, 66, 22, 55}\n"
     ]
    }
   ],
   "source": [
    "set_exaple_3 = {0,3,22,1,2,3}\n",
    "print (set_example_2 | set_exaple_3) #Gabung Distinct"
   ]
  },
  {
   "cell_type": "code",
   "execution_count": 45,
   "id": "74f1868d",
   "metadata": {},
   "outputs": [
    {
     "name": "stdout",
     "output_type": "stream",
     "text": [
      "{1, 2, 3}\n"
     ]
    }
   ],
   "source": [
    "print (set_example_2 & set_exaple_3) #Dua dua ada"
   ]
  },
  {
   "cell_type": "code",
   "execution_count": 46,
   "id": "3f6d112e",
   "metadata": {},
   "outputs": [
    {
     "name": "stdout",
     "output_type": "stream",
     "text": [
      "{66, 4, 55}\n"
     ]
    }
   ],
   "source": [
    "print (set_example_2 - set_exaple_3) #Ada either one"
   ]
  },
  {
   "cell_type": "code",
   "execution_count": 47,
   "id": "3cb6f8bf",
   "metadata": {},
   "outputs": [
    {
     "name": "stdout",
     "output_type": "stream",
     "text": [
      "{0, 66, 4, 22, 55}\n"
     ]
    }
   ],
   "source": [
    "print (set_example_2 ^ set_exaple_3) #Have at 1 but not 2 and vice versa"
   ]
  },
  {
   "cell_type": "markdown",
   "id": "9892ac5c",
   "metadata": {},
   "source": [
    "# Dictionary"
   ]
  },
  {
   "cell_type": "code",
   "execution_count": 48,
   "id": "32472aaa",
   "metadata": {},
   "outputs": [],
   "source": [
    "dictionary_example = {'name' : 'kiwi' , 'Weekly' : 5 , 'favourite artist' : ['no rome', 'keshi']}"
   ]
  },
  {
   "cell_type": "code",
   "execution_count": 49,
   "id": "6a882bc9",
   "metadata": {},
   "outputs": [
    {
     "data": {
      "text/plain": [
       "dict"
      ]
     },
     "execution_count": 49,
     "metadata": {},
     "output_type": "execute_result"
    }
   ],
   "source": [
    "type (dictionary_example)"
   ]
  },
  {
   "cell_type": "code",
   "execution_count": 50,
   "id": "9c192888",
   "metadata": {},
   "outputs": [
    {
     "name": "stdout",
     "output_type": "stream",
     "text": [
      "{'name': 'kiwi', 'Weekly': 5, 'favourite artist': ['no rome', 'keshi']}\n"
     ]
    }
   ],
   "source": [
    "print (dictionary_example)"
   ]
  },
  {
   "cell_type": "code",
   "execution_count": 51,
   "id": "7a4c30f8",
   "metadata": {},
   "outputs": [
    {
     "data": {
      "text/plain": [
       "dict_values(['kiwi', 5, ['no rome', 'keshi']])"
      ]
     },
     "execution_count": 51,
     "metadata": {},
     "output_type": "execute_result"
    }
   ],
   "source": [
    "dictionary_example.values()"
   ]
  },
  {
   "cell_type": "code",
   "execution_count": 53,
   "id": "a2b5cfba",
   "metadata": {},
   "outputs": [
    {
     "data": {
      "text/plain": [
       "dict_items([('name', 'kiwi'), ('Weekly', 5), ('favourite artist', ['no rome', 'keshi'])])"
      ]
     },
     "execution_count": 53,
     "metadata": {},
     "output_type": "execute_result"
    }
   ],
   "source": [
    "dictionary_example.items()"
   ]
  },
  {
   "cell_type": "code",
   "execution_count": 54,
   "id": "e4159008",
   "metadata": {},
   "outputs": [
    {
     "data": {
      "text/plain": [
       "'kiwi'"
      ]
     },
     "execution_count": 54,
     "metadata": {},
     "output_type": "execute_result"
    }
   ],
   "source": [
    "dictionary_example['name']"
   ]
  },
  {
   "cell_type": "code",
   "execution_count": 58,
   "id": "018ca18b",
   "metadata": {},
   "outputs": [
    {
     "data": {
      "text/plain": [
       "'Buttowski'"
      ]
     },
     "execution_count": 58,
     "metadata": {},
     "output_type": "execute_result"
    }
   ],
   "source": [
    "dictionary_example['name'] = 'Buttowski'\n",
    "dictionary_example['name']"
   ]
  },
  {
   "cell_type": "code",
   "execution_count": 59,
   "id": "46249cb1",
   "metadata": {},
   "outputs": [
    {
     "name": "stdout",
     "output_type": "stream",
     "text": [
      "{'name': 'buttowski', 'Weekly': 5, 'favourite artist': ['no rome', 'keshi']}\n"
     ]
    }
   ],
   "source": [
    "dictionary_example.update({'name': 'buttowski', 'Weekly': 5, 'favourite artist': ['no rome', 'keshi']})\n",
    "print (dictionary_example)"
   ]
  },
  {
   "cell_type": "code",
   "execution_count": 60,
   "id": "dcbdb5b5",
   "metadata": {},
   "outputs": [
    {
     "name": "stdout",
     "output_type": "stream",
     "text": [
      "{'name': 'buttowski', 'Weekly': 5, 'favourite artist': ['no rome', 'keshi', 'SZA']}\n"
     ]
    }
   ],
   "source": [
    "dictionary_example.update({'name': 'buttowski', 'favourite artist': ['no rome', 'keshi','SZA']})\n",
    "print (dictionary_example)"
   ]
  },
  {
   "cell_type": "code",
   "execution_count": 61,
   "id": "d47dd0ad",
   "metadata": {},
   "outputs": [
    {
     "name": "stdout",
     "output_type": "stream",
     "text": [
      "{'Weekly': 5, 'favourite artist': ['no rome', 'keshi', 'SZA']}\n"
     ]
    }
   ],
   "source": [
    "del dictionary_example['name']\n",
    "print (dictionary_example)"
   ]
  },
  {
   "cell_type": "code",
   "execution_count": null,
   "id": "0028c81d",
   "metadata": {},
   "outputs": [],
   "source": []
  }
 ],
 "metadata": {
  "kernelspec": {
   "display_name": "Python 3 (ipykernel)",
   "language": "python",
   "name": "python3"
  },
  "language_info": {
   "codemirror_mode": {
    "name": "ipython",
    "version": 3
   },
   "file_extension": ".py",
   "mimetype": "text/x-python",
   "name": "python",
   "nbconvert_exporter": "python",
   "pygments_lexer": "ipython3",
   "version": "3.11.4"
  }
 },
 "nbformat": 4,
 "nbformat_minor": 5
}
