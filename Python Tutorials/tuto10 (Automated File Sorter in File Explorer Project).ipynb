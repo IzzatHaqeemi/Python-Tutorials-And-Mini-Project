{
 "cells": [
  {
   "cell_type": "markdown",
   "id": "81c591bf",
   "metadata": {},
   "source": [
    "# Automated File Sorter in File Explorer Project"
   ]
  },
  {
   "cell_type": "code",
   "execution_count": 26,
   "id": "f63171d2",
   "metadata": {},
   "outputs": [],
   "source": [
    "import os , shutil"
   ]
  },
  {
   "cell_type": "code",
   "execution_count": 27,
   "id": "042a9c6d",
   "metadata": {},
   "outputs": [],
   "source": [
    "path = r\"C:/Users/HP/Desktop/TUTO10 (Phyton)/\""
   ]
  },
  {
   "cell_type": "code",
   "execution_count": 28,
   "id": "2b62432b",
   "metadata": {},
   "outputs": [],
   "source": [
    "file_name = os.listdir(path)"
   ]
  },
  {
   "cell_type": "code",
   "execution_count": 29,
   "id": "32b687ef",
   "metadata": {},
   "outputs": [],
   "source": [
    "folder_names = ['csv files','images files']\n",
    "\n",
    "\n",
    "for loop in range (0,2):\n",
    "    if not os.path.exists(path + folder_names[loop]):\n",
    "        print (path + folder_names[loop])\n",
    "        os.makedirs((path + folder_names[loop]))\n",
    "        \n",
    "for file in file_name:\n",
    "    if \".csv\" in file and not os.path.exists(path + 'csv files/' + file):\n",
    "        shutil.move(path + file, path + 'csv files/' + file)\n",
    "    elif \".png\" in file and not os.path.exists(path + 'images files/' + file):\n",
    "        shutil.move(path + file, path + 'images files/' + file)"
   ]
  },
  {
   "cell_type": "code",
   "execution_count": null,
   "id": "c3befb76",
   "metadata": {},
   "outputs": [],
   "source": []
  }
 ],
 "metadata": {
  "kernelspec": {
   "display_name": "Python 3 (ipykernel)",
   "language": "python",
   "name": "python3"
  },
  "language_info": {
   "codemirror_mode": {
    "name": "ipython",
    "version": 3
   },
   "file_extension": ".py",
   "mimetype": "text/x-python",
   "name": "python",
   "nbconvert_exporter": "python",
   "pygments_lexer": "ipython3",
   "version": "3.11.4"
  }
 },
 "nbformat": 4,
 "nbformat_minor": 5
}
