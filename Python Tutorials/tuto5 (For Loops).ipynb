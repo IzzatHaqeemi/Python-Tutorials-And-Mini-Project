{
 "cells": [
  {
   "cell_type": "markdown",
   "id": "b5f8c33f",
   "metadata": {},
   "source": [
    "# For Loops"
   ]
  },
  {
   "cell_type": "code",
   "execution_count": 7,
   "id": "dc880ad3",
   "metadata": {},
   "outputs": [
    {
     "name": "stdout",
     "output_type": "stream",
     "text": [
      "1\n",
      "2\n",
      "3\n",
      "4\n",
      "5\n"
     ]
    }
   ],
   "source": [
    "integers = [1,2,3,4,5]\n",
    "for number in integers:\n",
    "    print (number)"
   ]
  },
  {
   "cell_type": "code",
   "execution_count": 8,
   "id": "eb99c0eb",
   "metadata": {},
   "outputs": [
    {
     "name": "stdout",
     "output_type": "stream",
     "text": [
      "yep!\n",
      "yep!\n",
      "yep!\n",
      "yep!\n",
      "yep!\n"
     ]
    }
   ],
   "source": [
    "for number in integers :\n",
    "    print ('yep!')"
   ]
  },
  {
   "cell_type": "code",
   "execution_count": 9,
   "id": "ac2df0eb",
   "metadata": {},
   "outputs": [
    {
     "name": "stdout",
     "output_type": "stream",
     "text": [
      "2\n",
      "4\n",
      "6\n",
      "8\n",
      "10\n"
     ]
    }
   ],
   "source": [
    "intergers = [1,2,3,4,5]\n",
    "for number in integers:\n",
    "    print (number + number)"
   ]
  },
  {
   "cell_type": "code",
   "execution_count": 10,
   "id": "9691befa",
   "metadata": {},
   "outputs": [],
   "source": [
    "ice_cream_dictionary = {'name' : 'Kiwi' , 'weekly intake' : 5 , 'favourite ice creams' : ['MCC' , 'Vanille']}"
   ]
  },
  {
   "cell_type": "code",
   "execution_count": 13,
   "id": "3df63663",
   "metadata": {},
   "outputs": [
    {
     "name": "stdout",
     "output_type": "stream",
     "text": [
      "Kiwi\n",
      "5\n",
      "['MCC', 'Vanille']\n"
     ]
    }
   ],
   "source": [
    "for cream in ice_cream_dictionary.values() :\n",
    "    print (cream)"
   ]
  },
  {
   "cell_type": "code",
   "execution_count": 16,
   "id": "dbc37720",
   "metadata": {},
   "outputs": [
    {
     "name": "stdout",
     "output_type": "stream",
     "text": [
      "name -> Kiwi\n",
      "weekly intake -> 5\n",
      "favourite ice creams -> ['MCC', 'Vanille']\n"
     ]
    }
   ],
   "source": [
    "for key, value in ice_cream_dictionary.items() :\n",
    "    print (key, '->' , value)"
   ]
  },
  {
   "cell_type": "markdown",
   "id": "5f8b48ec",
   "metadata": {},
   "source": [
    "# Nested For Loops"
   ]
  },
  {
   "cell_type": "code",
   "execution_count": 22,
   "id": "96aa9d0e",
   "metadata": {},
   "outputs": [],
   "source": [
    "flavour = ['Vanille', 'Chocolate', 'Cookie Dough']\n",
    "topping = ['Hot Fudge', 'Oreos', ' Marshmellows' ]\n"
   ]
  },
  {
   "cell_type": "code",
   "execution_count": 23,
   "id": "5558b3ec",
   "metadata": {},
   "outputs": [
    {
     "name": "stdout",
     "output_type": "stream",
     "text": [
      "Vanille Topped With Hot Fudge\n",
      "Vanille Topped With Oreos\n",
      "Vanille Topped With  Marshmellows\n",
      "Chocolate Topped With Hot Fudge\n",
      "Chocolate Topped With Oreos\n",
      "Chocolate Topped With  Marshmellows\n",
      "Cookie Dough Topped With Hot Fudge\n",
      "Cookie Dough Topped With Oreos\n",
      "Cookie Dough Topped With  Marshmellows\n"
     ]
    }
   ],
   "source": [
    "for one in flavour:\n",
    "    for two in topping:\n",
    "        print (one, 'Topped With', two)"
   ]
  },
  {
   "cell_type": "code",
   "execution_count": null,
   "id": "b672654d",
   "metadata": {},
   "outputs": [],
   "source": []
  }
 ],
 "metadata": {
  "kernelspec": {
   "display_name": "Python 3 (ipykernel)",
   "language": "python",
   "name": "python3"
  },
  "language_info": {
   "codemirror_mode": {
    "name": "ipython",
    "version": 3
   },
   "file_extension": ".py",
   "mimetype": "text/x-python",
   "name": "python",
   "nbconvert_exporter": "python",
   "pygments_lexer": "ipython3",
   "version": "3.11.4"
  }
 },
 "nbformat": 4,
 "nbformat_minor": 5
}
