{
 "cells": [
  {
   "cell_type": "markdown",
   "id": "102683cd",
   "metadata": {},
   "source": [
    "# If-Elif-else statement"
   ]
  },
  {
   "cell_type": "code",
   "execution_count": 3,
   "id": "02efda63",
   "metadata": {},
   "outputs": [
    {
     "name": "stdout",
     "output_type": "stream",
     "text": [
      "Yes\n"
     ]
    }
   ],
   "source": [
    "if 25 > 10:\n",
    "    print ('Yes')"
   ]
  },
  {
   "cell_type": "code",
   "execution_count": 4,
   "id": "79083312",
   "metadata": {},
   "outputs": [
    {
     "name": "stdout",
     "output_type": "stream",
     "text": [
      "Nope sir\n"
     ]
    }
   ],
   "source": [
    "if 25 < 10:\n",
    "    print ('Yes')\n",
    "else:\n",
    "    print ('Nope sir')"
   ]
  },
  {
   "cell_type": "code",
   "execution_count": 5,
   "id": "40aed0a0",
   "metadata": {},
   "outputs": [
    {
     "name": "stdout",
     "output_type": "stream",
     "text": [
      "Yes\n"
     ]
    }
   ],
   "source": [
    "if 25 > 10:\n",
    "    print ('Yes')\n",
    "else:\n",
    "    print ('Nope sir')"
   ]
  },
  {
   "cell_type": "code",
   "execution_count": 7,
   "id": "7abc00e2",
   "metadata": {},
   "outputs": [
    {
     "name": "stdout",
     "output_type": "stream",
     "text": [
      "Weho\n"
     ]
    }
   ],
   "source": [
    "if 25 < 10:\n",
    "    print ('Yes')\n",
    "elif 25 < 30:\n",
    "    print ('Weho')\n",
    "else:\n",
    "    print ('Nope sir')"
   ]
  },
  {
   "cell_type": "code",
   "execution_count": 8,
   "id": "2a6e3e0d",
   "metadata": {},
   "outputs": [
    {
     "name": "stdout",
     "output_type": "stream",
     "text": [
      "Yes\n"
     ]
    }
   ],
   "source": [
    "if (25 < 10) or (1 < 3):\n",
    "    print ('Yes')\n",
    "elif 25 < 30:\n",
    "    print ('Weho')\n",
    "else:\n",
    "    print ('Nope sir')"
   ]
  },
  {
   "cell_type": "code",
   "execution_count": 9,
   "id": "30f11b4f",
   "metadata": {},
   "outputs": [
    {
     "name": "stdout",
     "output_type": "stream",
     "text": [
      "Nope sir\n"
     ]
    }
   ],
   "source": [
    "print ('yes') if 1 > 3 else print(\"Nope sir\")"
   ]
  },
  {
   "cell_type": "code",
   "execution_count": 14,
   "id": "24a91407",
   "metadata": {},
   "outputs": [
    {
     "name": "stdout",
     "output_type": "stream",
     "text": [
      "Yes\n",
      "This is nested\n"
     ]
    }
   ],
   "source": [
    "if (25 < 10) or (1 < 3):\n",
    "    print ('Yes')\n",
    "    if 10 > 5:\n",
    "        print ('This is nested')\n",
    "elif 25 < 30:\n",
    "    print ('Weho')\n",
    "else:\n",
    "    print ('Nope sir')"
   ]
  },
  {
   "cell_type": "code",
   "execution_count": null,
   "id": "32e49ca0",
   "metadata": {},
   "outputs": [],
   "source": []
  }
 ],
 "metadata": {
  "kernelspec": {
   "display_name": "Python 3 (ipykernel)",
   "language": "python",
   "name": "python3"
  },
  "language_info": {
   "codemirror_mode": {
    "name": "ipython",
    "version": 3
   },
   "file_extension": ".py",
   "mimetype": "text/x-python",
   "name": "python",
   "nbconvert_exporter": "python",
   "pygments_lexer": "ipython3",
   "version": "3.11.4"
  }
 },
 "nbformat": 4,
 "nbformat_minor": 5
}
