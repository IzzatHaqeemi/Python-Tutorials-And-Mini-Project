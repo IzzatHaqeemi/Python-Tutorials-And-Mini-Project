{
 "cells": [
  {
   "cell_type": "markdown",
   "id": "121e6f75",
   "metadata": {},
   "source": [
    "# Functions"
   ]
  },
  {
   "cell_type": "code",
   "execution_count": 1,
   "id": "3a3cc123",
   "metadata": {},
   "outputs": [],
   "source": [
    "def first_function ():\n",
    "    print ('Hello World')"
   ]
  },
  {
   "cell_type": "code",
   "execution_count": 2,
   "id": "678f4b7b",
   "metadata": {},
   "outputs": [
    {
     "name": "stdout",
     "output_type": "stream",
     "text": [
      "Hello World\n"
     ]
    }
   ],
   "source": [
    "first_function ()"
   ]
  },
  {
   "cell_type": "code",
   "execution_count": 3,
   "id": "ba210e64",
   "metadata": {},
   "outputs": [],
   "source": [
    "def number_squared (number):\n",
    "    print (number**2)"
   ]
  },
  {
   "cell_type": "code",
   "execution_count": 4,
   "id": "db0aad51",
   "metadata": {},
   "outputs": [
    {
     "name": "stdout",
     "output_type": "stream",
     "text": [
      "25\n"
     ]
    }
   ],
   "source": [
    "number_squared (5)"
   ]
  },
  {
   "cell_type": "code",
   "execution_count": 5,
   "id": "15934c7b",
   "metadata": {},
   "outputs": [],
   "source": [
    "def number_squared_custom (number,power):\n",
    "    print (number**power)"
   ]
  },
  {
   "cell_type": "code",
   "execution_count": 6,
   "id": "e4ed2323",
   "metadata": {},
   "outputs": [
    {
     "name": "stdout",
     "output_type": "stream",
     "text": [
      "8\n"
     ]
    }
   ],
   "source": [
    "number_squared_custom (2,3)"
   ]
  },
  {
   "cell_type": "code",
   "execution_count": 10,
   "id": "f37b3b15",
   "metadata": {},
   "outputs": [],
   "source": [
    "args_tuple = (5,6,1,2,8)\n",
    "\n",
    "def number_args (*number):\n",
    "    print(number[0]*number[1])"
   ]
  },
  {
   "cell_type": "code",
   "execution_count": 11,
   "id": "df535470",
   "metadata": {},
   "outputs": [
    {
     "name": "stdout",
     "output_type": "stream",
     "text": [
      "30\n"
     ]
    }
   ],
   "source": [
    "number_args (*args_tuple)"
   ]
  },
  {
   "cell_type": "code",
   "execution_count": 12,
   "id": "fee42aa8",
   "metadata": {},
   "outputs": [],
   "source": [
    "def number_squared_custom (number,power):\n",
    "    print (number**power)"
   ]
  },
  {
   "cell_type": "code",
   "execution_count": 13,
   "id": "84cec5f3",
   "metadata": {},
   "outputs": [
    {
     "name": "stdout",
     "output_type": "stream",
     "text": [
      "243\n"
     ]
    }
   ],
   "source": [
    "number_squared_custom (power = 5 , number = 3)"
   ]
  },
  {
   "cell_type": "code",
   "execution_count": 22,
   "id": "29c88969",
   "metadata": {},
   "outputs": [],
   "source": [
    "def number_kwarg (**number):\n",
    "    print ('My Number is :' + number['integer'] + \" \" +'My Other Number is :' + number['integer2'] )"
   ]
  },
  {
   "cell_type": "code",
   "execution_count": 23,
   "id": "edce790a",
   "metadata": {},
   "outputs": [
    {
     "name": "stdout",
     "output_type": "stream",
     "text": [
      "My Number is :2309 My Other Number is :2112\n"
     ]
    }
   ],
   "source": [
    "number_kwarg (integer = '2309' , integer2 = '2112')"
   ]
  },
  {
   "cell_type": "code",
   "execution_count": null,
   "id": "2e077c62",
   "metadata": {},
   "outputs": [],
   "source": []
  }
 ],
 "metadata": {
  "kernelspec": {
   "display_name": "Python 3 (ipykernel)",
   "language": "python",
   "name": "python3"
  },
  "language_info": {
   "codemirror_mode": {
    "name": "ipython",
    "version": 3
   },
   "file_extension": ".py",
   "mimetype": "text/x-python",
   "name": "python",
   "nbconvert_exporter": "python",
   "pygments_lexer": "ipython3",
   "version": "3.11.4"
  }
 },
 "nbformat": 4,
 "nbformat_minor": 5
}
